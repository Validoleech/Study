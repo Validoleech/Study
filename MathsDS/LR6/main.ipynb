{
 "cells": [
  {
   "cell_type": "code",
   "execution_count": 1,
   "metadata": {},
   "outputs": [],
   "source": [
    "import numpy as np"
   ]
  },
  {
   "cell_type": "code",
   "execution_count": 32,
   "metadata": {},
   "outputs": [],
   "source": [
    "def regression(X_reg, Y):\n",
    "    \n",
    "    XTX = X_reg.T @ X_reg\n",
    "    XTY = X_reg.T @ Y\n",
    "    \n",
    "    b = np.linalg.solve(XTX, XTY)\n",
    "    sum_abs_b = np.sum(np.abs(b))\n",
    "\n",
    "    for i, coef in enumerate(b):\n",
    "        print(f'β_{i} = {coef:.3f}')\n",
    "    print(f'\\nSum = {sum_abs_b:.3f}')"
   ]
  },
  {
   "cell_type": "markdown",
   "metadata": {},
   "source": [
    "# Задача 1"
   ]
  },
  {
   "cell_type": "code",
   "execution_count": 33,
   "metadata": {},
   "outputs": [
    {
     "name": "stdout",
     "output_type": "stream",
     "text": [
      "β_0 = 8.957\n",
      "β_1 = 0.439\n",
      "\n",
      "Sum = 9.396\n"
     ]
    }
   ],
   "source": [
    "X = np.array([51, 67, 84, 81, 101, 109, 71, 97, 109, 51, 105, 89])\n",
    "Y = np.array([25, 30, 43, 44, 57, 58, 43, 46, 62, 45, 55, 45])\n",
    "\n",
    "X_reg = np.column_stack((np.ones_like(X), X))\n",
    "regression(X_reg, Y)\n"
   ]
  },
  {
   "cell_type": "markdown",
   "metadata": {},
   "source": [
    "# Задача 2"
   ]
  },
  {
   "cell_type": "code",
   "execution_count": 34,
   "metadata": {},
   "outputs": [
    {
     "name": "stdout",
     "output_type": "stream",
     "text": [
      "β_0 = 0.265\n",
      "β_1 = -0.173\n",
      "β_2 = 0.396\n",
      "\n",
      "Sum = 0.834\n"
     ]
    }
   ],
   "source": [
    "X = np.array([0.5, 1.0, 1.5, 2.0, 2.5, 3.0, 3.5, 4.0, 4.5, 5.0, 5.5, 6.0, 6.5, 7.0, 7.5, 8.0])\n",
    "Y = np.array([0.4, 0.3, 1.0, 1.7, 2.1, 3.4, 4.1, 5.8, 7.7, 9.4, 11.4, 13.6, 15.6, 18.6, 21.2, 24.1])\n",
    "\n",
    "X_reg = np.column_stack((np.ones_like(X), X, X ** 2))\n",
    "regression(X_reg, Y)\n"
   ]
  },
  {
   "cell_type": "markdown",
   "metadata": {},
   "source": [
    "# Задача 3"
   ]
  },
  {
   "cell_type": "code",
   "execution_count": 35,
   "metadata": {},
   "outputs": [
    {
     "name": "stdout",
     "output_type": "stream",
     "text": [
      "β_0 = 2.157\n",
      "β_1 = 0.376\n",
      "\n",
      "Sum = 2.533\n"
     ]
    }
   ],
   "source": [
    "X = np.array([1, 2, 3, 4, 5, 6, 7, 8, 9, 10, 11, 12])\n",
    "Y = np.array([2.11, 2.45, 2.61, 2.73, 2.75, 2.81, 2.87, 2.91, 2.96, 3.03, 3.05, 3.12])\n",
    "Z = np.log(X)\n",
    "X_reg = np.column_stack((np.ones_like(Z), Z))\n",
    "regression(X_reg, Y)"
   ]
  },
  {
   "cell_type": "markdown",
   "metadata": {},
   "source": [
    "# Задача 4"
   ]
  },
  {
   "cell_type": "code",
   "execution_count": 24,
   "metadata": {},
   "outputs": [
    {
     "name": "stdout",
     "output_type": "stream",
     "text": [
      "β_0 = -0.863\n",
      "β_1 = 0.913\n",
      "\n",
      "Sum = 1.776\n"
     ]
    }
   ],
   "source": [
    "import numpy as np\n",
    "\n",
    "X = np.array([1, 2, 3, 4, 5, 6, 7, 8, 9, 10, 11, 12])\n",
    "Y = np.array([0.10, 0.21, 0.43, 0.51, 0.62, 0.81, 1.01, 1.23, 1.47, 1.53, 1.75, 2.25])\n",
    "\n",
    "Z = np.exp(0.1 * X)\n",
    "X_reg = np.column_stack((np.ones_like(Z), Z))\n",
    "regression(X_reg, Y)"
   ]
  },
  {
   "cell_type": "markdown",
   "metadata": {},
   "source": [
    "# Задача 5"
   ]
  },
  {
   "cell_type": "code",
   "execution_count": 36,
   "metadata": {},
   "outputs": [
    {
     "name": "stdout",
     "output_type": "stream",
     "text": [
      "β_0 = -4.494\n",
      "β_1 = 1.947\n",
      "β_2 = -0.199\n",
      "\n",
      "Sum = 6.641\n"
     ]
    }
   ],
   "source": [
    "import numpy as np\n",
    "\n",
    "X = np.array([2.11, 2.45, 2.61, 2.73, 2.75, 2.81, 2.87, 2.91, 2.96, 3.03, 3.05, 3.12])\n",
    "Y = np.array([0.10, 0.21, 0.43, 0.51, 0.62, 0.81, 1.01, 1.23, 1.47, 1.53, 1.75, 2.25])\n",
    "\n",
    "Z = np.sin(8 * X)\n",
    "X_reg = np.column_stack((np.ones_like(X), X, Z))\n",
    "regression(X_reg, Y)\n"
   ]
  }
 ],
 "metadata": {
  "kernelspec": {
   "display_name": "venv",
   "language": "python",
   "name": "python3"
  },
  "language_info": {
   "codemirror_mode": {
    "name": "ipython",
    "version": 3
   },
   "file_extension": ".py",
   "mimetype": "text/x-python",
   "name": "python",
   "nbconvert_exporter": "python",
   "pygments_lexer": "ipython3",
   "version": "3.12.6"
  }
 },
 "nbformat": 4,
 "nbformat_minor": 2
}
