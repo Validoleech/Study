{
 "cells": [
  {
   "cell_type": "markdown",
   "metadata": {
    "id": "A_8yhMAVR4kV"
   },
   "source": [
    "# Задание 1\n",
    "\n",
    "Скрипт для асинхронной обкачки урлов\n",
    "\n",
    "Написать скрипт для обкачки списка урлов с возможностью задавать количество одновременных запросов, используя асинхронное программирование. Клиент можно использовать любой, например, из aiohttp."
   ]
  },
  {
   "cell_type": "code",
   "execution_count": 2,
   "metadata": {},
   "outputs": [
    {
     "name": "stdout",
     "output_type": "stream",
     "text": [
      "Requirement already satisfied: aiohttp in d:\\dev\\study\\machinelearning\\venv\\lib\\site-packages (3.11.11)\n",
      "Requirement already satisfied: aiohappyeyeballs>=2.3.0 in d:\\dev\\study\\machinelearning\\venv\\lib\\site-packages (from aiohttp) (2.4.4)\n",
      "Requirement already satisfied: aiosignal>=1.1.2 in d:\\dev\\study\\machinelearning\\venv\\lib\\site-packages (from aiohttp) (1.3.2)\n",
      "Requirement already satisfied: attrs>=17.3.0 in d:\\dev\\study\\machinelearning\\venv\\lib\\site-packages (from aiohttp) (24.3.0)\n",
      "Requirement already satisfied: frozenlist>=1.1.1 in d:\\dev\\study\\machinelearning\\venv\\lib\\site-packages (from aiohttp) (1.5.0)\n",
      "Requirement already satisfied: multidict<7.0,>=4.5 in d:\\dev\\study\\machinelearning\\venv\\lib\\site-packages (from aiohttp) (6.1.0)\n",
      "Requirement already satisfied: propcache>=0.2.0 in d:\\dev\\study\\machinelearning\\venv\\lib\\site-packages (from aiohttp) (0.2.1)\n",
      "Requirement already satisfied: yarl<2.0,>=1.17.0 in d:\\dev\\study\\machinelearning\\venv\\lib\\site-packages (from aiohttp) (1.18.3)\n",
      "Requirement already satisfied: idna>=2.0 in d:\\dev\\study\\machinelearning\\venv\\lib\\site-packages (from yarl<2.0,>=1.17.0->aiohttp) (3.10)\n",
      "Requirement already satisfied: nest-asyncio in d:\\dev\\study\\machinelearning\\venv\\lib\\site-packages (1.6.0)\n"
     ]
    }
   ],
   "source": [
    "!pip install aiohttp\n",
    "!pip install nest-asyncio "
   ]
  },
  {
   "cell_type": "code",
   "execution_count": 6,
   "metadata": {},
   "outputs": [
    {
     "name": "stdout",
     "output_type": "stream",
     "text": [
      "Fetched https://nohello.net/ with status 200\n",
      "Fetched https://google.com with status 200\n",
      "Failed to fetch https://vk.com/https://ya.ru: Cannot connect to host vk.com:443 ssl:True [SSLCertVerificationError: (1, '[SSL: CERTIFICATE_VERIFY_FAILED] certificate verify failed: self-signed certificate in certificate chain (_ssl.c:1000)')]\n",
      "Fetched https://example.com with status 200\n",
      "Fetched https://youtube.com with status 200\n",
      "URL: https://example.com, Status: 200, Content Length: 1256\n",
      "URL: https://nohello.net/, Status: 200, Content Length: 3583\n",
      "URL: https://google.com, Status: 200, Content Length: 21416\n",
      "URL: https://vk.com/https://ya.ru, Status: None, Content Length: N/A\n",
      "URL: https://youtube.com, Status: 200, Content Length: 582881\n"
     ]
    }
   ],
   "source": [
    "import aiohttp\n",
    "import asyncio\n",
    "from aiohttp import ClientSession\n",
    "\n",
    "# Лечилка для Юпитера\n",
    "import nest_asyncio\n",
    "nest_asyncio.apply()\n",
    "\n",
    "async def fetch_url(session: ClientSession, url: str):\n",
    "    \"\"\"Асинхронная функция для получения содержимого URL.\"\"\"\n",
    "    try:\n",
    "        async with session.get(url) as response:\n",
    "            status = response.status\n",
    "            content = await response.text()\n",
    "            print(f\"Fetched {url} with status {status}\")\n",
    "            return url, status, content\n",
    "    except Exception as e:\n",
    "        print(f\"Failed to fetch {url}: {e}\")\n",
    "        return url, None, None\n",
    "\n",
    "async def fetch_all_urls(urls: list, max_concurrent: int):\n",
    "    \"\"\"Асинхронная функция для обкачки списка URL.\"\"\"\n",
    "    semaphore = asyncio.Semaphore(max_concurrent)  # Ограничение на количество одновременных запросов\n",
    "\n",
    "    async def fetch_with_semaphore(session, url):\n",
    "        async with semaphore:\n",
    "            return await fetch_url(session, url)\n",
    "\n",
    "    async with aiohttp.ClientSession() as session:\n",
    "        tasks = [fetch_with_semaphore(session, url) for url in urls]\n",
    "        results = await asyncio.gather(*tasks)\n",
    "        return results\n",
    "\n",
    "if __name__ == \"__main__\":\n",
    "    urls_to_fetch = [\n",
    "        \"https://example.com\",\n",
    "        \"https://nohello.net/\",\n",
    "        \"https://google.com\",\n",
    "        \"https://vk.com/\"\n",
    "        \"https://ya.ru\",\n",
    "        \"https://youtube.com\"\n",
    "    ]\n",
    "\n",
    "    max_concurrent_requests = 3 # Задаем количество одновременных запросов\n",
    "\n",
    "    loop = asyncio.get_event_loop()\n",
    "    results = loop.run_until_complete(fetch_all_urls(urls_to_fetch, max_concurrent_requests))\n",
    "\n",
    "    # Обработка результатов\n",
    "    for url, status, content in results:\n",
    "        print(f\"URL: {url}, Status: {status}, Content Length: {len(content) if content else 'N/A'}\")\n"
   ]
  },
  {
   "cell_type": "markdown",
   "metadata": {
    "id": "VhTIV05ISY3G"
   },
   "source": [
    "# Задание 2\n",
    "\n",
    "Сравнение использования weakref и слотов\n",
    "\n",
    "Нужно придумать свои типы с несколькими атрибутами:\n",
    "\n",
    "- класс с обычными атрибутами\n",
    "- класс со слотами\n",
    "- класс с атрибутами weakref\n",
    "\n",
    "Для каждого класса создается большое число экземпляров и замеряется (сравнивается):\n",
    "- время создания пачки экземпляров\n",
    "- время чтения/изменения атрибутов\n",
    "\n",
    "Результаты замеров оформляются скриншотами c описанием и выводом."
   ]
  },
  {
   "cell_type": "code",
   "execution_count": 4,
   "metadata": {},
   "outputs": [
    {
     "name": "stdout",
     "output_type": "stream",
     "text": [
      "RegularClass: создание 0.75 с, доступ 0.04 с\n",
      "SlotsClass: создание 0.49 с, доступ 0.04 с\n",
      "WeakrefClass: создание 0.60 с, доступ 0.03 с\n"
     ]
    }
   ],
   "source": [
    "import time\n",
    "import weakref\n",
    "\n",
    "# Класс с обычными атрибутами\n",
    "class RegularClass:\n",
    "    def __init__(self, a, b, c):\n",
    "        self.a = a\n",
    "        self.b = b\n",
    "        self.c = c\n",
    "\n",
    "# Класс со слотами\n",
    "class SlotsClass:\n",
    "    __slots__ = ('a', 'b', 'c')\n",
    "\n",
    "    def __init__(self, a, b, c):\n",
    "        self.a = a\n",
    "        self.b = b\n",
    "        self.c = c\n",
    "\n",
    "# Класс с поддержкой weakref\n",
    "class WeakrefClass:\n",
    "    __slots__ = ('a', 'b', 'c', '__weakref__')\n",
    "\n",
    "    def __init__(self, a, b, c):\n",
    "        self.a = a\n",
    "        self.b = b\n",
    "        self.c = c\n",
    "\n",
    "def measure_creation(cls, n):\n",
    "    \"\"\"Замер времени создания n экземпляров.\"\"\"\n",
    "    start = time.time()\n",
    "    instances = [cls(i, i + 1, i + 2) for i in range(n)]\n",
    "    end = time.time()\n",
    "    return end - start, instances\n",
    "\n",
    "def measure_attr_access(instances):\n",
    "    \"\"\"Замер времени чтения/изменения атрибутов.\"\"\"\n",
    "    start = time.time()\n",
    "    for obj in instances:\n",
    "        _ = obj.a  # чтение\n",
    "        obj.a += 1  # изменение\n",
    "    end = time.time()\n",
    "    return end - start\n",
    "\n",
    "def main():\n",
    "    n = 10**6  # количество экземпляров\n",
    "\n",
    "    # Замеры для RegularClass\n",
    "    reg_time, reg_instances = measure_creation(RegularClass, n)\n",
    "    reg_access_time = measure_attr_access(reg_instances)\n",
    "\n",
    "    # Замеры для SlotsClass\n",
    "    slots_time, slots_instances = measure_creation(SlotsClass, n)\n",
    "    slots_access_time = measure_attr_access(slots_instances)\n",
    "\n",
    "    # Замеры для WeakrefClass\n",
    "    weak_time, weak_instances = measure_creation(WeakrefClass, n)\n",
    "    weak_access_time = measure_attr_access(weak_instances)\n",
    "\n",
    "    # Вывод результатов\n",
    "    print(f\"RegularClass: создание {reg_time:.2f} с, доступ {reg_access_time:.2f} с\")\n",
    "    print(f\"SlotsClass: создание {slots_time:.2f} с, доступ {slots_access_time:.2f} с\")\n",
    "    print(f\"WeakrefClass: создание {weak_time:.2f} с, доступ {weak_access_time:.2f} с\")\n",
    "\n",
    "if __name__ == \"__main__\":\n",
    "    main()"
   ]
  }
 ],
 "metadata": {
  "colab": {
   "authorship_tag": "ABX9TyMaqKFIsf+x0NOZrIBOIOhc",
   "provenance": []
  },
  "kernelspec": {
   "display_name": "venv",
   "language": "python",
   "name": "python3"
  },
  "language_info": {
   "codemirror_mode": {
    "name": "ipython",
    "version": 3
   },
   "file_extension": ".py",
   "mimetype": "text/x-python",
   "name": "python",
   "nbconvert_exporter": "python",
   "pygments_lexer": "ipython3",
   "version": "3.12.8"
  }
 },
 "nbformat": 4,
 "nbformat_minor": 0
}
