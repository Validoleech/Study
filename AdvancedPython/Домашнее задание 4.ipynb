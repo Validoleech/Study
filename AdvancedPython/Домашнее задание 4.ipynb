{
 "cells": [
  {
   "cell_type": "markdown",
   "metadata": {
    "id": "Y17pk3s39McV"
   },
   "source": [
    "# Задание 1\n",
    "\n",
    "Напишите программу с двумя потоками. В первом потоке выведите все чётные числа, во втором -- нечётные. Нижняя и верхняя граница указывается на входе (можно захардкодить, чтобы не вводить).\n",
    "\n",
    "Пример:\n",
    "\n",
    "Входные данные:\n",
    "```\n",
    "30\n",
    "50\n",
    "```\n",
    "\n",
    "Ответ:\n",
    "```\n",
    "List of even numbers:\n",
    "30 32 34 36 38 40 42 44 46 48 50\n",
    "List of odd numbers:\n",
    "31 33 35 37 39 41 43 45 47 49\n",
    "```"
   ]
  },
  {
   "cell_type": "code",
   "execution_count": 1,
   "metadata": {
    "executionInfo": {
     "elapsed": 247,
     "status": "ok",
     "timestamp": 1732280862817,
     "user": {
      "displayName": "Софья Михайлова",
      "userId": "12586590169147193524"
     },
     "user_tz": -180
    },
    "id": "fOeB9jZu_Cel"
   },
   "outputs": [
    {
     "name": "stdout",
     "output_type": "stream",
     "text": [
      "List of even numbers: \n",
      "2 4 6 8 10 12 14 16 18 20 22 24 26 28 30 32 34 36 38 40 42 44 46 48 50 52 54 56 58 60 62 64 66 68 70 72 74 76 78 80 82 84 86 88 90 92 94 96 98 100 \n",
      "List of odd numbers: \n",
      "1 3 5 7 9 11 13 15 17 19 21 23 25 27 29 31 33 35 37 39 41 43 45 47 49 51 53 55 57 59 61 63 65 67 69 71 73 75 77 79 81 83 85 87 89 91 93 95 97 99 \n"
     ]
    }
   ],
   "source": [
    "import threading\n",
    "\n",
    "def get_number(number):\n",
    "    while True:\n",
    "        try:\n",
    "            value = int(input(number))\n",
    "            return value\n",
    "        except ValueError:\n",
    "            print(\"Введите целое число\")\n",
    "\n",
    "lower_bound = get_number(\"Введите нижнюю границу диапазона: \")\n",
    "upper_bound = get_number(\"Введите верхнюю границу диапазона: \")\n",
    "\n",
    "def print_even_numbers():\n",
    "    print(\"List of even numbers: \")\n",
    "    for num in range(lower_bound, upper_bound+1):\n",
    "        if num % 2 == 0:\n",
    "            print(num, end = \" \")\n",
    "    print()\n",
    "\n",
    "def print_odd_numbers():\n",
    "    print(\"List of odd numbers: \")\n",
    "    for num in range(lower_bound, upper_bound+1):\n",
    "        if num % 2 != 0:\n",
    "            print(num, end = \" \")\n",
    "    print()\n",
    "\n",
    "even_thread = threading.Thread(target=print_even_numbers)\n",
    "odd_thread = threading.Thread(target=print_odd_numbers)\n",
    "\n",
    "even_thread.start()\n",
    "odd_thread.start()\n",
    "\n",
    "even_thread.join()\n",
    "odd_thread.join()"
   ]
  },
  {
   "cell_type": "markdown",
   "metadata": {
    "id": "xWOcw0bfDhW2"
   },
   "source": [
    "# Задание 2\n",
    "\n",
    "Реализуйте программу, которая конкурентно посчитает факториал числа.\n",
    "\n",
    "Входные данные:\n",
    "```\n",
    "12\n",
    "```\n",
    "\n",
    "Ответ:\n",
    "```\n",
    "479001600\n",
    "```"
   ]
  },
  {
   "cell_type": "code",
   "execution_count": 1,
   "metadata": {},
   "outputs": [],
   "source": [
    "from multiprocessing import Process, Queue\n",
    "\n",
    "def get_number(number):\n",
    "    while True:\n",
    "        try:\n",
    "            value = int(input(number))\n",
    "            if value >= 0:\n",
    "                return value\n",
    "            else: \n",
    "                print(\"Введите неотрицательное целое число!\")\n",
    "        except ValueError:\n",
    "            print(\"Введите целое число\")\n",
    "\n",
    "def factorial(n, queue):\n",
    "    factorial = 1\n",
    "    for i in range(1, n + 1):\n",
    "        factorial *= i\n",
    "    queue.put(factorial)\n",
    "\n",
    "if __name__ == \"__main__\":\n",
    "    n = get_number(\"Введите число для расчета факториала: \")\n",
    "    queue = Queue()\n",
    "\n",
    "    factorial_process = Process(target=factorial, args=(n, queue))\n",
    "    factorial_process.start()\n",
    "    factorial_process.join()\n",
    "\n",
    "    # Получаем результат из очереди\n",
    "    if not queue.empty():\n",
    "        print(queue.get())"
   ]
  },
  {
   "cell_type": "markdown",
   "metadata": {
    "id": "S8tau_l2_SP1"
   },
   "source": [
    "# Задание 3\n",
    "\n",
    "Напишите 2 функции: первая считает квадрат числа (можно взять готовые реализации), вторая -- сумму чисел.\n",
    "\n",
    "Каждую из указанных функций запустите в отдельном процессе. В результате у вас должен получится пайплайн, который получает на вход числа от 1 до $n$ (включительно), считает для них квадрат, и для полученных чисел считает сумму.\n",
    "\n",
    "Входные данные:\n",
    "```\n",
    "10\n",
    "```\n",
    "\n",
    "Ответ:\n",
    "```\n",
    "385\n",
    "```"
   ]
  },
  {
   "cell_type": "code",
   "execution_count": 11,
   "metadata": {
    "id": "mxOqE_quAVU8"
   },
   "outputs": [],
   "source": [
    "import multiprocessing\n",
    "\n",
    "def calc_squares(numbers, conn):\n",
    "    conn.send([num ** 2 for num in numbers])\n",
    "    conn.close()\n",
    "\n",
    "def calc_sum(conn):\n",
    "    print(sum(conn.recv()))\n",
    "\n",
    "def get_number(number):\n",
    "    while True:\n",
    "        try:\n",
    "            value = int(input(number))\n",
    "            return value\n",
    "        except ValueError:\n",
    "            print(\"Введите целое число\")\n",
    "\n",
    "if __name__ == \"__main__\":\n",
    "    multiprocessing.set_start_method(\"spawn\", force=True)\n",
    "    n = get_number(\"Введите число:\")\n",
    "\n",
    "    numbers = list(range(1, n + 1))\n",
    "\n",
    "    parent_conn, child_conn = multiprocessing.Pipe()\n",
    "\n",
    "    square_process = Process(target=calc_squares, args=(numbers, child_conn))\n",
    "    sum_process = Process(target=calc_sum, args=(parent_conn,))\n",
    "    square_process.start()\n",
    "    sum_process.start()\n",
    "\n",
    "    square_process.join()\n",
    "    sum_process.join()\n",
    "\n",
    "    while parent_conn.poll():\n",
    "        print(parent_conn.recv(), end= \" \")"
   ]
  },
  {
   "cell_type": "markdown",
   "metadata": {
    "id": "1KhRHQ_dBN0e"
   },
   "source": [
    "# Задание 4\n",
    "\n",
    "Реализуйте параллельный алгоритм сортировки слиянием (merge sort) с использованием multiprocessing.Array либо multiprocessing.Manager.\n",
    "\n",
    "Входные данные:\n",
    "```\n",
    "3 14 15 9 2 6 5 35\n",
    "```\n",
    "\n",
    "Ответ:\n",
    "```\n",
    "2 3 5 6 9 14 15 35\n",
    "```"
   ]
  },
  {
   "cell_type": "code",
   "execution_count": null,
   "metadata": {
    "id": "-OPFks5aDHgy"
   },
   "outputs": [],
   "source": [
    "from multiprocessing import Process, Manager\n",
    "\n",
    "def merge(left, right):\n",
    "    result = []\n",
    "    i = j = 0\n",
    "    while i < len(left) and j < len(right):\n",
    "        if left[i] <= right[j]:\n",
    "            result.append(left[i])\n",
    "            i += 1\n",
    "        else:\n",
    "            result.append(right[j])\n",
    "            j += 1\n",
    "    result.extend(left[i:])\n",
    "    result.extend(right[j:])\n",
    "    return result\n",
    "\n",
    "def parallel_merge_sort(array, result):\n",
    "    if len(array) <= 1:\n",
    "        result.extend(array) \n",
    "        return\n",
    "\n",
    "def parallel_merge_sort(array, result):\n",
    "    if len(array) <= 1:\n",
    "        result.extend(array)\n",
    "        return\n",
    "    \n",
    "    mid = len(array) // 2  # Находим середину массива\n",
    "    left_result = Manager().list()  # Список для результата левой половины\n",
    "    right_result = Manager().list()  # Список для результата правой половины\n",
    "\n",
    "    left_process = Process(target=parallel_merge_sort, args=(array[:mid], left_result))\n",
    "    right_process = Process(target=parallel_merge_sort, args=(array[mid:], right_result))\n",
    "\n",
    "    left_process.start()\n",
    "    right_process.start()\n",
    "\n",
    "    left_process.join()\n",
    "    right_process.join()\n",
    "\n",
    "    result.extend(merge(left_result, right_result))\n",
    "\n",
    "if __name__ == \"__main__\":\n",
    "    array = list(map(int, input(\"Введите числа через пробел: \").split()))\n",
    "    \n",
    "    result = Manager().list()\n",
    "\n",
    "    parallel_merge_sort(array, result)\n",
    "\n",
    "    print(\"Отсортированный массив:\", list(result))"
   ]
  }
 ],
 "metadata": {
  "colab": {
   "authorship_tag": "ABX9TyMLtX4GG5q9u2ix8VylchbA",
   "provenance": []
  },
  "kernelspec": {
   "display_name": ".venv",
   "language": "python",
   "name": "python3"
  },
  "language_info": {
   "codemirror_mode": {
    "name": "ipython",
    "version": 3
   },
   "file_extension": ".py",
   "mimetype": "text/x-python",
   "name": "python",
   "nbconvert_exporter": "python",
   "pygments_lexer": "ipython3",
   "version": "3.12.6"
  }
 },
 "nbformat": 4,
 "nbformat_minor": 0
}
