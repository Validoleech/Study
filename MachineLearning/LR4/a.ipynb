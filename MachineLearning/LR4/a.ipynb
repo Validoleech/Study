{
 "cells": [
  {
   "cell_type": "code",
   "execution_count": null,
   "metadata": {},
   "outputs": [],
   "source": [
    "import numpy as np\n",
    "\n",
    "a = np.array([2, -3], [4, -6])\n",
    "b = np.array([4, -6],[6, -4])\n",
    "\n"
   ]
  },
  {
   "cell_type": "markdown",
   "metadata": {},
   "source": [
    "$$\n",
    "\\begin{pmatrix}\n",
    "  2 & -3 \\\\\n",
    "  4 & -6 \\\\\n",
    "\\end{pmatrix}\n",
    "× \n",
    "\\begin{pmatrix}\n",
    "  9 & -6 \\\\\n",
    "  6 & -4 \\\\\n",
    "\\end{pmatrix}\n",
    "$$"
   ]
  },
  {
   "cell_type": "markdown",
   "metadata": {},
   "source": []
  }
 ],
 "metadata": {
  "kernelspec": {
   "display_name": ".venv",
   "language": "python",
   "name": "python3"
  },
  "language_info": {
   "name": "python",
   "version": "3.12.6"
  }
 },
 "nbformat": 4,
 "nbformat_minor": 2
}
